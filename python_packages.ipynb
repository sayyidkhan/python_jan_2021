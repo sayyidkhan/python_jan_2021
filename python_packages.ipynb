{
 "cells": [
  {
   "cell_type": "code",
   "execution_count": 4,
   "metadata": {},
   "outputs": [],
   "source": [
    "##page 11\n",
    "import numpy as np"
   ]
  },
  {
   "cell_type": "code",
   "execution_count": 5,
   "metadata": {},
   "outputs": [],
   "source": [
    "## page 12\n",
    "array_1d = np.array([61,52.5,71,32.5,68,64]) #this is a 1D array\n",
    "array_2d = np.array([[18,26,17],\n",
    "                     [25,15.5,12],\n",
    "                     [24,27,20],\n",
    "                     [10,5.5,17],\n",
    "                     [27,26,15],\n",
    "                     [22,21,21],\n",
    "                    ])                       #this is a 2D array"
   ]
  },
  {
   "cell_type": "code",
   "execution_count": 6,
   "metadata": {},
   "outputs": [
    {
     "name": "stdout",
     "output_type": "stream",
     "text": [
      "<class 'numpy.ndarray'>\n",
      "<class 'numpy.ndarray'>\n"
     ]
    }
   ],
   "source": [
    "print(type(array_1d))\n",
    "print(type(array_2d))"
   ]
  },
  {
   "cell_type": "code",
   "execution_count": 8,
   "metadata": {},
   "outputs": [
    {
     "name": "stdout",
     "output_type": "stream",
     "text": [
      "Dimension Number:  1\n",
      "Array Shape:  (6,)\n",
      "Number Of data items:  6\n",
      "Data type of items:  float64\n"
     ]
    }
   ],
   "source": [
    "## page 15 - 19\n",
    "# 1 dimension array\n",
    "print('Dimension Number: ', array_1d.ndim)\n",
    "print('Array Shape: ', array_1d.shape)\n",
    "print('Number Of data items: ', array_1d.size)\n",
    "print('Data type of items: ', array_1d.dtype)"
   ]
  },
  {
   "cell_type": "code",
   "execution_count": 9,
   "metadata": {},
   "outputs": [
    {
     "name": "stdout",
     "output_type": "stream",
     "text": [
      "Dimension Number:  2\n",
      "Array Shape:  (6, 3)\n",
      "Number Of data items:  18\n",
      "Data type of items:  float64\n"
     ]
    }
   ],
   "source": [
    "## page 20 - 25\n",
    "# 2 dimension array\n",
    "print('Dimension Number: ', array_2d.ndim)\n",
    "print('Array Shape: ', array_2d.shape)\n",
    "print('Number Of data items: ', array_2d.size)\n",
    "print('Data type of items: ', array_2d.dtype)"
   ]
  },
  {
   "cell_type": "code",
   "execution_count": 11,
   "metadata": {},
   "outputs": [
    {
     "data": {
      "text/plain": [
       "array([[1., 1., 1., 1., 1.],\n",
       "       [1., 1., 1., 1., 1.],\n",
       "       [1., 1., 1., 1., 1.]])"
      ]
     },
     "execution_count": 11,
     "metadata": {},
     "output_type": "execute_result"
    }
   ],
   "source": [
    "## page 26\n",
    "ones_2d = np.ones(shape=(3,5))\n",
    "ones_2d"
   ]
  },
  {
   "cell_type": "code",
   "execution_count": 12,
   "metadata": {},
   "outputs": [
    {
     "data": {
      "text/plain": [
       "array([0., 0., 0., 0., 0.])"
      ]
     },
     "execution_count": 12,
     "metadata": {},
     "output_type": "execute_result"
    }
   ],
   "source": [
    "zeros_1d = np.zeros(shape=5)\n",
    "zeros_1d"
   ]
  },
  {
   "cell_type": "code",
   "execution_count": 16,
   "metadata": {},
   "outputs": [
    {
     "data": {
      "text/plain": [
       "array([2. , 2.5, 3. , 3.5, 4. , 4.5])"
      ]
     },
     "execution_count": 16,
     "metadata": {},
     "output_type": "execute_result"
    }
   ],
   "source": [
    "range_array = np.arange(2, 5, 0.5)\n",
    "range_array"
   ]
  },
  {
   "cell_type": "code",
   "execution_count": 18,
   "metadata": {},
   "outputs": [
    {
     "name": "stdout",
     "output_type": "stream",
     "text": [
      "52.5\n",
      "26.0\n",
      "[71.  32.5 68.  64. ]\n",
      "[[10.   5.5 17. ]\n",
      " [27.  26.  15. ]\n",
      " [22.  21.  21. ]]\n",
      "[[18.  26.  17. ]\n",
      " [24.  27.  20. ]\n",
      " [25.  15.5 12. ]]\n"
     ]
    }
   ],
   "source": [
    "## page 27 - 32\n",
    "print(array_1d[1])\n",
    "print(array_2d[0,1])\n",
    "print(array_1d[2:])\n",
    "print(array_2d[3:,:])\n",
    "print(array_2d[[0,2,1]])"
   ]
  },
  {
   "cell_type": "code",
   "execution_count": 22,
   "metadata": {},
   "outputs": [
    {
     "data": {
      "text/plain": [
       "array([[18. , 26. , 17. ],\n",
       "       [25. , 15.5, 12. ],\n",
       "       [25. , 28. , 21. ],\n",
       "       [10. ,  5.5, 17. ],\n",
       "       [27. , 26. , 15. ],\n",
       "       [22. , 21. , 21. ]])"
      ]
     },
     "execution_count": 22,
     "metadata": {},
     "output_type": "execute_result"
    }
   ],
   "source": [
    "##page 33 - 36\n",
    "array_2d[2,:] = np.array([25,28,21])\n",
    "array_2d"
   ]
  },
  {
   "cell_type": "code",
   "execution_count": 23,
   "metadata": {},
   "outputs": [
    {
     "data": {
      "text/plain": [
       "array([61. , 52.5, 74. , 32.5, 68. , 64. ])"
      ]
     },
     "execution_count": 23,
     "metadata": {},
     "output_type": "execute_result"
    }
   ],
   "source": [
    "array_1d[2] = 74\n",
    "array_1d"
   ]
  },
  {
   "cell_type": "code",
   "execution_count": 25,
   "metadata": {},
   "outputs": [
    {
     "name": "stdout",
     "output_type": "stream",
     "text": [
      "[[4.  5. ]\n",
      " [5.  6.5]\n",
      " [8.  9.5]]\n",
      "[[ 2.  4.]\n",
      " [ 4.  7.]\n",
      " [10. 13.]]\n",
      "[[ 2.  4.]\n",
      " [ 4.  7.]\n",
      " [10. 13.]]\n",
      "[[ 1.    4.  ]\n",
      " [ 4.   12.25]\n",
      " [25.   42.25]]\n"
     ]
    }
   ],
   "source": [
    "## page 37 - 38\n",
    "# element wise aritmetic operations\n",
    "array_2d = np.array([ [1,2] , [2,3.5], [5,6.5] ] )\n",
    "print(array_2d + 3)\n",
    "print(array_2d * 2)\n",
    "print(array_2d + array_2d)\n",
    "print(array_2d * array_2d)"
   ]
  },
  {
   "cell_type": "code",
   "execution_count": 29,
   "metadata": {},
   "outputs": [
    {
     "name": "stdout",
     "output_type": "stream",
     "text": [
      "usd array\n",
      "[ 2.    3.6   2.05 13.5  18.9 ]\n",
      "\n",
      "sgd array\n",
      "[ 2.74    4.932   2.8085 18.495  25.893 ]\n"
     ]
    }
   ],
   "source": [
    "## page 39 - 42\n",
    "## usd to sgd exercise\n",
    "usd = [2,3.6,2.05,13.5,18.9]\n",
    "exchange_rate = 1.37\n",
    "\n",
    "usd_array = np.array(usd)\n",
    "sgd_array = usd_array * exchange_rate\n",
    "\n",
    "print(\"usd array\")\n",
    "print(usd_array)\n",
    "print()\n",
    "print(\"sgd array\")\n",
    "print(sgd_array)"
   ]
  },
  {
   "cell_type": "code",
   "execution_count": 31,
   "metadata": {},
   "outputs": [],
   "source": [
    "# page 44 - 49\n",
    "# using the \"distr\"\n",
    "# find\n",
    "# 1. the expected newspaper demands\n",
    "# 2. standard deviations of newspaper demands\n",
    "# 3. the expected total profit with the given parameters\n",
    "\n",
    "distr = np.array([[0.315,0.226,0.289,0.087,0.083],\n",
    "                  [560,530,389,202,278],\n",
    "                  [533,486,386,234,263],\n",
    "                 ])   "
   ]
  },
  {
   "cell_type": "code",
   "execution_count": 36,
   "metadata": {},
   "outputs": [
    {
     "name": "stdout",
     "output_type": "stream",
     "text": [
      "Expected demand: 449.249\n",
      "Standard deviation: 118.908\n"
     ]
    }
   ],
   "source": [
    "# paper1 data result\n",
    "exp1 = np.sum(distr[0] * distr[1])\n",
    "var1 = np.sum(distr[0] * (distr[1] - exp1) ** 2)\n",
    "std1 = var1 ** 0.5\n",
    "\n",
    "print(\"Expected demand: {0:0.3f}\".format(exp1))\n",
    "print(\"Standard deviation: {0:0.3f}\".format(std1))"
   ]
  },
  {
   "cell_type": "code",
   "execution_count": null,
   "metadata": {},
   "outputs": [],
   "source": [
    "# page 50\n",
    "# can try out on your own...\n"
   ]
  },
  {
   "cell_type": "code",
   "execution_count": 44,
   "metadata": {},
   "outputs": [
    {
     "data": {
      "text/plain": [
       "array([135.45 ,  97.18 , 112.421,  17.574,  23.074])"
      ]
     },
     "execution_count": 44,
     "metadata": {},
     "output_type": "execute_result"
    }
   ],
   "source": [
    "cost = np.array([0.6,0.8])\n",
    "price = np.array([1.0,1.15])\n",
    "order = np.array([430,480])\n",
    "\n",
    "exp_sold = np.sum(distr[0] * np.minimum(order[0], distr[1]))\n",
    "distr[0] * np.minimum(order[0], distr[1])"
   ]
  },
  {
   "cell_type": "code",
   "execution_count": null,
   "metadata": {},
   "outputs": [],
   "source": [
    "#stop at page 51"
   ]
  }
 ],
 "metadata": {
  "kernelspec": {
   "display_name": "Python 3",
   "language": "python",
   "name": "python3"
  },
  "language_info": {
   "codemirror_mode": {
    "name": "ipython",
    "version": 3
   },
   "file_extension": ".py",
   "mimetype": "text/x-python",
   "name": "python",
   "nbconvert_exporter": "python",
   "pygments_lexer": "ipython3",
   "version": "3.8.3"
  }
 },
 "nbformat": 4,
 "nbformat_minor": 4
}
